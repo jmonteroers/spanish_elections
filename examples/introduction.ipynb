{
 "cells": [
  {
   "cell_type": "markdown",
   "metadata": {},
   "source": [
    "### Introduction"
   ]
  },
  {
   "cell_type": "code",
   "execution_count": 50,
   "metadata": {},
   "outputs": [],
   "source": [
    "import pandas as pd\n",
    "\n",
    "import spanish_elections as sp # should already be installed"
   ]
  },
  {
   "cell_type": "markdown",
   "metadata": {},
   "source": [
    "### Reading November 2019 Election Data"
   ]
  },
  {
   "cell_type": "markdown",
   "metadata": {},
   "source": [
    "Notice that the codebook for all the data is in generate_data/README.md. In this section, I will simply use the shortcut functions within the `data` module to read the data."
   ]
  },
  {
   "cell_type": "markdown",
   "metadata": {},
   "source": [
    "#### Extract general data about provinces\n",
    "\n",
    "First, I wish to extract some general data about each province, such as its name and the number of seats allocated in the November 2019 elections. We can do that by invoking the `load_general_data` function:"
   ]
  },
  {
   "cell_type": "code",
   "execution_count": 51,
   "metadata": {},
   "outputs": [
    {
     "data": {
      "text/html": [
       "<div>\n",
       "<style scoped>\n",
       "    .dataframe tbody tr th:only-of-type {\n",
       "        vertical-align: middle;\n",
       "    }\n",
       "\n",
       "    .dataframe tbody tr th {\n",
       "        vertical-align: top;\n",
       "    }\n",
       "\n",
       "    .dataframe thead th {\n",
       "        text-align: right;\n",
       "    }\n",
       "</style>\n",
       "<table border=\"1\" class=\"dataframe\">\n",
       "  <thead>\n",
       "    <tr style=\"text-align: right;\">\n",
       "      <th></th>\n",
       "      <th>comunidad</th>\n",
       "      <th>código de provincia</th>\n",
       "      <th>provincia</th>\n",
       "      <th>población</th>\n",
       "      <th>número de mesas</th>\n",
       "      <th>censo electoral sin cera</th>\n",
       "      <th>censo cera</th>\n",
       "      <th>total censo electoral</th>\n",
       "      <th>solicitudes voto cera aceptadas</th>\n",
       "      <th>total votantes cer</th>\n",
       "      <th>total votantes cera</th>\n",
       "      <th>total votantes</th>\n",
       "      <th>votos válidos</th>\n",
       "      <th>votos a candidaturas</th>\n",
       "      <th>votos en blanco</th>\n",
       "      <th>votos nulos</th>\n",
       "      <th>diputados</th>\n",
       "    </tr>\n",
       "  </thead>\n",
       "  <tbody>\n",
       "    <tr>\n",
       "      <th>0</th>\n",
       "      <td>Andalucía</td>\n",
       "      <td>4</td>\n",
       "      <td>Almería</td>\n",
       "      <td>709340</td>\n",
       "      <td>809</td>\n",
       "      <td>460639</td>\n",
       "      <td>41988</td>\n",
       "      <td>502627</td>\n",
       "      <td>2923</td>\n",
       "      <td>303481</td>\n",
       "      <td>1933</td>\n",
       "      <td>305414</td>\n",
       "      <td>302424</td>\n",
       "      <td>299763</td>\n",
       "      <td>2661</td>\n",
       "      <td>2990</td>\n",
       "      <td>6</td>\n",
       "    </tr>\n",
       "    <tr>\n",
       "      <th>1</th>\n",
       "      <td>Andalucía</td>\n",
       "      <td>11</td>\n",
       "      <td>Cádiz</td>\n",
       "      <td>1238714</td>\n",
       "      <td>1520</td>\n",
       "      <td>973238</td>\n",
       "      <td>29057</td>\n",
       "      <td>1002295</td>\n",
       "      <td>3485</td>\n",
       "      <td>621965</td>\n",
       "      <td>2230</td>\n",
       "      <td>624195</td>\n",
       "      <td>616079</td>\n",
       "      <td>606858</td>\n",
       "      <td>9221</td>\n",
       "      <td>8116</td>\n",
       "      <td>9</td>\n",
       "    </tr>\n",
       "    <tr>\n",
       "      <th>2</th>\n",
       "      <td>Andalucía</td>\n",
       "      <td>14</td>\n",
       "      <td>Córdoba</td>\n",
       "      <td>785240</td>\n",
       "      <td>935</td>\n",
       "      <td>630033</td>\n",
       "      <td>18308</td>\n",
       "      <td>648341</td>\n",
       "      <td>2358</td>\n",
       "      <td>450124</td>\n",
       "      <td>1651</td>\n",
       "      <td>451775</td>\n",
       "      <td>444376</td>\n",
       "      <td>438971</td>\n",
       "      <td>5405</td>\n",
       "      <td>7399</td>\n",
       "      <td>6</td>\n",
       "    </tr>\n",
       "    <tr>\n",
       "      <th>3</th>\n",
       "      <td>Andalucía</td>\n",
       "      <td>18</td>\n",
       "      <td>Granada</td>\n",
       "      <td>912075</td>\n",
       "      <td>1100</td>\n",
       "      <td>704847</td>\n",
       "      <td>50160</td>\n",
       "      <td>755007</td>\n",
       "      <td>4827</td>\n",
       "      <td>487734</td>\n",
       "      <td>3168</td>\n",
       "      <td>490902</td>\n",
       "      <td>482779</td>\n",
       "      <td>478251</td>\n",
       "      <td>4528</td>\n",
       "      <td>8123</td>\n",
       "      <td>7</td>\n",
       "    </tr>\n",
       "    <tr>\n",
       "      <th>4</th>\n",
       "      <td>Andalucía</td>\n",
       "      <td>21</td>\n",
       "      <td>Huelva</td>\n",
       "      <td>519932</td>\n",
       "      <td>650</td>\n",
       "      <td>391497</td>\n",
       "      <td>7522</td>\n",
       "      <td>399019</td>\n",
       "      <td>914</td>\n",
       "      <td>254766</td>\n",
       "      <td>563</td>\n",
       "      <td>255329</td>\n",
       "      <td>250681</td>\n",
       "      <td>247336</td>\n",
       "      <td>3345</td>\n",
       "      <td>4648</td>\n",
       "      <td>5</td>\n",
       "    </tr>\n",
       "  </tbody>\n",
       "</table>\n",
       "</div>"
      ],
      "text/plain": [
       "   comunidad  código de provincia provincia  población  número de mesas  \\\n",
       "0  Andalucía                    4   Almería     709340              809   \n",
       "1  Andalucía                   11     Cádiz    1238714             1520   \n",
       "2  Andalucía                   14   Córdoba     785240              935   \n",
       "3  Andalucía                   18   Granada     912075             1100   \n",
       "4  Andalucía                   21    Huelva     519932              650   \n",
       "\n",
       "   censo electoral sin cera  censo cera  total censo electoral  \\\n",
       "0                    460639       41988                 502627   \n",
       "1                    973238       29057                1002295   \n",
       "2                    630033       18308                 648341   \n",
       "3                    704847       50160                 755007   \n",
       "4                    391497        7522                 399019   \n",
       "\n",
       "   solicitudes voto cera aceptadas  total votantes cer  total votantes cera  \\\n",
       "0                             2923              303481                 1933   \n",
       "1                             3485              621965                 2230   \n",
       "2                             2358              450124                 1651   \n",
       "3                             4827              487734                 3168   \n",
       "4                              914              254766                  563   \n",
       "\n",
       "   total votantes  votos válidos  votos a candidaturas  votos en blanco  \\\n",
       "0          305414         302424                299763             2661   \n",
       "1          624195         616079                606858             9221   \n",
       "2          451775         444376                438971             5405   \n",
       "3          490902         482779                478251             4528   \n",
       "4          255329         250681                247336             3345   \n",
       "\n",
       "   votos nulos  diputados  \n",
       "0         2990          6  \n",
       "1         8116          9  \n",
       "2         7399          6  \n",
       "3         8123          7  \n",
       "4         4648          5  "
      ]
     },
     "execution_count": 51,
     "metadata": {},
     "output_type": "execute_result"
    }
   ],
   "source": [
    "general_data = \\\n",
    "sp.data.load_general_data()\n",
    "\n",
    "general_data.head()"
   ]
  },
  {
   "cell_type": "markdown",
   "metadata": {},
   "source": [
    "Where the key columns are `provincia` (province) and `diputados` (seats per province). In the future, I may translate the column names and add some documentation on what each variable means. \n",
    "\n",
    "Anyhow, let us now check the dimensions of this dataframe:"
   ]
  },
  {
   "cell_type": "code",
   "execution_count": 52,
   "metadata": {},
   "outputs": [
    {
     "data": {
      "text/plain": [
       "(52, 17)"
      ]
     },
     "execution_count": 52,
     "metadata": {},
     "output_type": "execute_result"
    }
   ],
   "source": [
    "general_data.shape"
   ]
  },
  {
   "cell_type": "markdown",
   "metadata": {},
   "source": [
    "It has 52 rows: one per province in Spain."
   ]
  },
  {
   "cell_type": "markdown",
   "metadata": {},
   "source": [
    "#### Extract results of November 2019 elections"
   ]
  },
  {
   "cell_type": "markdown",
   "metadata": {},
   "source": [
    "With this purpose, we will use a different function, `load_results` that accepts two strings as argument, either 'votes' or '"
   ]
  },
  {
   "cell_type": "code",
   "execution_count": 53,
   "metadata": {},
   "outputs": [
    {
     "data": {
      "text/html": [
       "<div>\n",
       "<style scoped>\n",
       "    .dataframe tbody tr th:only-of-type {\n",
       "        vertical-align: middle;\n",
       "    }\n",
       "\n",
       "    .dataframe tbody tr th {\n",
       "        vertical-align: top;\n",
       "    }\n",
       "\n",
       "    .dataframe thead th {\n",
       "        text-align: right;\n",
       "    }\n",
       "</style>\n",
       "<table border=\"1\" class=\"dataframe\">\n",
       "  <thead>\n",
       "    <tr style=\"text-align: right;\">\n",
       "      <th></th>\n",
       "      <th>provincia</th>\n",
       "      <th>party</th>\n",
       "      <th>votes</th>\n",
       "    </tr>\n",
       "  </thead>\n",
       "  <tbody>\n",
       "    <tr>\n",
       "      <th>0</th>\n",
       "      <td>Almería</td>\n",
       "      <td>PSOE</td>\n",
       "      <td>89295</td>\n",
       "    </tr>\n",
       "    <tr>\n",
       "      <th>1</th>\n",
       "      <td>Cádiz</td>\n",
       "      <td>PSOE</td>\n",
       "      <td>188271</td>\n",
       "    </tr>\n",
       "    <tr>\n",
       "      <th>2</th>\n",
       "      <td>Córdoba</td>\n",
       "      <td>PSOE</td>\n",
       "      <td>146761</td>\n",
       "    </tr>\n",
       "    <tr>\n",
       "      <th>3</th>\n",
       "      <td>Granada</td>\n",
       "      <td>PSOE</td>\n",
       "      <td>160190</td>\n",
       "    </tr>\n",
       "    <tr>\n",
       "      <th>4</th>\n",
       "      <td>Huelva</td>\n",
       "      <td>PSOE</td>\n",
       "      <td>91656</td>\n",
       "    </tr>\n",
       "  </tbody>\n",
       "</table>\n",
       "</div>"
      ],
      "text/plain": [
       "  provincia party   votes\n",
       "0   Almería  PSOE   89295\n",
       "1     Cádiz  PSOE  188271\n",
       "2   Córdoba  PSOE  146761\n",
       "3   Granada  PSOE  160190\n",
       "4    Huelva  PSOE   91656"
      ]
     },
     "execution_count": 53,
     "metadata": {},
     "output_type": "execute_result"
    }
   ],
   "source": [
    "results = \\\n",
    "sp.data.load_results('votes')\n",
    "\n",
    "results.head()"
   ]
  },
  {
   "cell_type": "markdown",
   "metadata": {},
   "source": [
    "Here we see that each row provides the following information:\n",
    "- provincia: province\n",
    "- party: political party\n",
    "- votes: # of votes obtained by each political party in each province"
   ]
  },
  {
   "cell_type": "code",
   "execution_count": 54,
   "metadata": {},
   "outputs": [
    {
     "data": {
      "text/plain": [
       "(3484, 3)"
      ]
     },
     "execution_count": 54,
     "metadata": {},
     "output_type": "execute_result"
    }
   ],
   "source": [
    "results.shape"
   ]
  },
  {
   "cell_type": "markdown",
   "metadata": {},
   "source": [
    "We can already find out how many political parties presented themselves to the general election in November 2019:"
   ]
  },
  {
   "cell_type": "code",
   "execution_count": 55,
   "metadata": {},
   "outputs": [
    {
     "data": {
      "text/plain": [
       "67"
      ]
     },
     "execution_count": 55,
     "metadata": {},
     "output_type": "execute_result"
    }
   ],
   "source": [
    "results.shape[0] // 52  # 52 is the number of provinces in Spain"
   ]
  },
  {
   "cell_type": "markdown",
   "metadata": {},
   "source": [
    "There were 67 political parties taking part in the event."
   ]
  },
  {
   "cell_type": "markdown",
   "metadata": {},
   "source": [
    "In the notebook `explore_the_data`, I will walk you through some interesting random facts that we can already gather from this data, such as the most-populated provinces in Spain or where did a party gain the highest percentage of casted votes."
   ]
  },
  {
   "cell_type": "markdown",
   "metadata": {},
   "source": [
    "### Simulate the Results of the Spanish Elections\n",
    "\n",
    "In this section, we want to obtain the number of seats obtained by each political party in each province from voting data (of course, it would be trivial to find it directly from the dataframe `results_by_province` as it already has this information!)"
   ]
  },
  {
   "cell_type": "markdown",
   "metadata": {},
   "source": [
    "To simulate the results, we only need to call `dhondt_rule_long`. The name of this function is no coincidence: [d'Hondt rule](https://en.wikipedia.org/wiki/D%27Hondt_method) is the rule used to allocate seats at the province level, and long is the shape of the results dataframe (as it does not have the political parties in the columns).\n",
    "\n",
    "But to allocate seats per province, we need to know how many seats correspond to each province. We can do that for the November 2019 elections by calling:"
   ]
  },
  {
   "cell_type": "code",
   "execution_count": 56,
   "metadata": {},
   "outputs": [],
   "source": [
    "seats_per_prov = sp.data.load_seats_by_province()"
   ]
  },
  {
   "cell_type": "markdown",
   "metadata": {},
   "source": [
    "Now we can call the function that runs the D'Hondt rule. But let us first have a look at its signature:"
   ]
  },
  {
   "cell_type": "code",
   "execution_count": 57,
   "metadata": {},
   "outputs": [
    {
     "name": "stdout",
     "output_type": "stream",
     "text": [
      "Help on function dhondt_rule_long in module spanish_elections.dhondt_rule:\n",
      "\n",
      "dhondt_rule_long(results: pandas.core.frame.DataFrame, n_seats: dict, province_col='province', party_col='party', votes_col='votes', seats_col='seats') -> pandas.core.frame.DataFrame\n",
      "    Runs `dhondt_rule_long_single province` for each province in results dataframe.\n",
      "    \n",
      "    Never works in place.\n",
      "\n"
     ]
    }
   ],
   "source": [
    "help(sp.dhondt_rule_long)"
   ]
  },
  {
   "cell_type": "markdown",
   "metadata": {},
   "source": [
    "We see that the function can be adapted to run with a dataframe with different column names. In our case, most default values are correct (e.g. votes_col is \"votes\"), except for province, so we will let the method know that the province column is actually named \"provincia\":"
   ]
  },
  {
   "cell_type": "code",
   "execution_count": 58,
   "metadata": {},
   "outputs": [
    {
     "data": {
      "text/html": [
       "<div>\n",
       "<style scoped>\n",
       "    .dataframe tbody tr th:only-of-type {\n",
       "        vertical-align: middle;\n",
       "    }\n",
       "\n",
       "    .dataframe tbody tr th {\n",
       "        vertical-align: top;\n",
       "    }\n",
       "\n",
       "    .dataframe thead th {\n",
       "        text-align: right;\n",
       "    }\n",
       "</style>\n",
       "<table border=\"1\" class=\"dataframe\">\n",
       "  <thead>\n",
       "    <tr style=\"text-align: right;\">\n",
       "      <th></th>\n",
       "      <th>party</th>\n",
       "      <th>provincia</th>\n",
       "      <th>votes</th>\n",
       "      <th>total_seats</th>\n",
       "      <th>seats</th>\n",
       "    </tr>\n",
       "  </thead>\n",
       "  <tbody>\n",
       "    <tr>\n",
       "      <th>0</th>\n",
       "      <td>PSOE</td>\n",
       "      <td>A Coruña</td>\n",
       "      <td>184178</td>\n",
       "      <td>8</td>\n",
       "      <td>3</td>\n",
       "    </tr>\n",
       "    <tr>\n",
       "      <th>1</th>\n",
       "      <td>PP</td>\n",
       "      <td>A Coruña</td>\n",
       "      <td>187127</td>\n",
       "      <td>8</td>\n",
       "      <td>3</td>\n",
       "    </tr>\n",
       "    <tr>\n",
       "      <th>2</th>\n",
       "      <td>VOX</td>\n",
       "      <td>A Coruña</td>\n",
       "      <td>50325</td>\n",
       "      <td>8</td>\n",
       "      <td>0</td>\n",
       "    </tr>\n",
       "    <tr>\n",
       "      <th>3</th>\n",
       "      <td>PODEMOS-IU</td>\n",
       "      <td>A Coruña</td>\n",
       "      <td>0</td>\n",
       "      <td>8</td>\n",
       "      <td>0</td>\n",
       "    </tr>\n",
       "    <tr>\n",
       "      <th>4</th>\n",
       "      <td>ERC-SOBIRANISTES</td>\n",
       "      <td>A Coruña</td>\n",
       "      <td>0</td>\n",
       "      <td>8</td>\n",
       "      <td>0</td>\n",
       "    </tr>\n",
       "  </tbody>\n",
       "</table>\n",
       "</div>"
      ],
      "text/plain": [
       "              party provincia   votes  total_seats  seats\n",
       "0              PSOE  A Coruña  184178            8      3\n",
       "1                PP  A Coruña  187127            8      3\n",
       "2               VOX  A Coruña   50325            8      0\n",
       "3        PODEMOS-IU  A Coruña       0            8      0\n",
       "4  ERC-SOBIRANISTES  A Coruña       0            8      0"
      ]
     },
     "execution_count": 58,
     "metadata": {},
     "output_type": "execute_result"
    }
   ],
   "source": [
    "results_with_seats = sp.dhondt_rule_long(results, seats_per_prov, province_col='provincia')\n",
    "results_with_seats.head()"
   ]
  },
  {
   "cell_type": "markdown",
   "metadata": {},
   "source": [
    "We appreciate a number of changes:\n",
    "1. The order of results has been modified. This is due to an internal call to pandas groupby\n",
    "2. Most importantly, two additional columns have been added: `total_seats` and `seats`. `total_seats` corresponds to the total number of seats per province and `seats` to the number of seats per political party in that province."
   ]
  },
  {
   "cell_type": "markdown",
   "metadata": {},
   "source": [
    "### Aggregate results\n",
    "\n",
    "We can use the `sp.summarise.agg_results` to aggregate all the seats of the elections"
   ]
  },
  {
   "cell_type": "code",
   "execution_count": 59,
   "metadata": {},
   "outputs": [
    {
     "data": {
      "text/plain": [
       "party\n",
       "BNG                       1\n",
       "CCa-PNC-NC                2\n",
       "CUP-PR                    2\n",
       "Cs                       10\n",
       "EAJ-PNV                   6\n",
       "ECP-GUANYEM EL CANVI      7\n",
       "EH Bildu                  5\n",
       "ERC-SOBIRANISTES         13\n",
       "JxCAT-JUNTS               8\n",
       "MÁS PAÍS-EQUO             2\n",
       "MÉS COMPROMÍS             1\n",
       "NA+                       2\n",
       "PODEMOS-EU                2\n",
       "PODEMOS-IU               26\n",
       "PP                       89\n",
       "PRC                       1\n",
       "PSOE                    120\n",
       "VOX                      52\n",
       "¡TERUEL EXISTE!           1\n",
       "Name: seats, dtype: int64"
      ]
     },
     "execution_count": 59,
     "metadata": {},
     "output_type": "execute_result"
    }
   ],
   "source": [
    "agg_results = sp.summarise.agg_results(results_with_seats,\n",
    "                                       result_col='seats')\n",
    "agg_results"
   ]
  },
  {
   "cell_type": "markdown",
   "metadata": {},
   "source": [
    "We can check that the results are correct by loading the seats from the actual elections:"
   ]
  },
  {
   "cell_type": "code",
   "execution_count": 60,
   "metadata": {},
   "outputs": [
    {
     "data": {
      "text/plain": [
       "party\n",
       "BNG                       1\n",
       "CCa-PNC-NC                2\n",
       "CUP-PR                    2\n",
       "Cs                       10\n",
       "EAJ-PNV                   6\n",
       "ECP-GUANYEM EL CANVI      7\n",
       "EH Bildu                  5\n",
       "ERC-SOBIRANISTES         13\n",
       "JxCAT-JUNTS               8\n",
       "MÁS PAÍS-EQUO             2\n",
       "MÉS COMPROMÍS             1\n",
       "NA+                       2\n",
       "PODEMOS-EU                2\n",
       "PODEMOS-IU               26\n",
       "PP                       89\n",
       "PRC                       1\n",
       "PSOE                    120\n",
       "VOX                      52\n",
       "¡TERUEL EXISTE!           1\n",
       "Name: seats, dtype: int64"
      ]
     },
     "execution_count": 60,
     "metadata": {},
     "output_type": "execute_result"
    }
   ],
   "source": [
    "actual_results = sp.data.load_results(type='seats')\n",
    "actual_results = sp.summarise.agg_results(actual_results,\n",
    "                                         result_col='seats')\n",
    "actual_results"
   ]
  },
  {
   "cell_type": "code",
   "execution_count": 61,
   "metadata": {},
   "outputs": [
    {
     "data": {
      "text/plain": [
       "True"
      ]
     },
     "execution_count": 61,
     "metadata": {},
     "output_type": "execute_result"
    }
   ],
   "source": [
    "(actual_results == agg_results).all()"
   ]
  },
  {
   "cell_type": "markdown",
   "metadata": {},
   "source": [
    "We got them! Finally, we should check that the sum of all seats corresponds to the total number of seats in Congreso (350):"
   ]
  },
  {
   "cell_type": "code",
   "execution_count": 62,
   "metadata": {},
   "outputs": [
    {
     "data": {
      "text/plain": [
       "350"
      ]
     },
     "execution_count": 62,
     "metadata": {},
     "output_type": "execute_result"
    }
   ],
   "source": [
    "agg_results.sum()"
   ]
  },
  {
   "cell_type": "markdown",
   "metadata": {},
   "source": [
    "Nice, we haven't missed any seats! For more information about the results, you can check [here](https://es.wikipedia.org/wiki/XIV_legislatura_de_Espa%C3%B1a) (it is in Spanish, though)"
   ]
  },
  {
   "cell_type": "markdown",
   "metadata": {},
   "source": [
    "In the next section, we will check how to use blocs to see how merging political parties would lead to different results in the elections :)"
   ]
  },
  {
   "cell_type": "markdown",
   "metadata": {},
   "source": [
    "### Working with blocs"
   ]
  },
  {
   "cell_type": "markdown",
   "metadata": {},
   "source": [
    "**Note!** The Bloc object is still under construction. Therefore, all code presented in this section is specially unstable!\n",
    "\n",
    "Let us first load a list with all the political parties that earned seats:"
   ]
  },
  {
   "cell_type": "code",
   "execution_count": 63,
   "metadata": {},
   "outputs": [
    {
     "data": {
      "text/plain": [
       "['PSOE',\n",
       " 'PP',\n",
       " 'VOX',\n",
       " 'PODEMOS-IU',\n",
       " 'ERC-SOBIRANISTES',\n",
       " 'Cs',\n",
       " 'JxCAT-JUNTS',\n",
       " 'ECP-GUANYEM EL CANVI',\n",
       " 'EAJ-PNV',\n",
       " 'EH Bildu',\n",
       " 'MÁS PAÍS-EQUO',\n",
       " 'CUP-PR',\n",
       " 'PODEMOS-EU',\n",
       " 'CCa-PNC-NC',\n",
       " 'NA+',\n",
       " 'MÉS COMPROMÍS',\n",
       " 'BNG',\n",
       " 'PRC',\n",
       " '¡TERUEL EXISTE!']"
      ]
     },
     "execution_count": 63,
     "metadata": {},
     "output_type": "execute_result"
    }
   ],
   "source": [
    "pparties = sp.data.load_political_parties(with_rep=True)\n",
    "pparties"
   ]
  },
  {
   "cell_type": "markdown",
   "metadata": {},
   "source": [
    "The `spanish_elections` package makes accessible a number of dictionaries that are helpful to work with Spanish political parties that earned at least a seat in the November 2019 elections. To access them, we can apply the `sp.data.load_blocs` function. Currently, this function loads a dictionary of dictionaries (a much more stable solution than loading a dictionary of Bloc objects)"
   ]
  },
  {
   "cell_type": "code",
   "execution_count": 64,
   "metadata": {},
   "outputs": [
    {
     "data": {
      "text/plain": [
       "{'investment_blocs_2020': {'PSOE': 'pro',\n",
       "  'PP': 'against',\n",
       "  'VOX': 'against',\n",
       "  'PODEMOS-IU': 'pro',\n",
       "  'ERC-SOBIRANISTES': 'abstain',\n",
       "  'Cs': 'against',\n",
       "  'JxCAT-JUNTS': 'against',\n",
       "  'ECP-GUANYEM EL CANVI': 'pro',\n",
       "  'EAJ-PNV': 'pro',\n",
       "  'EH Bildu': 'abstain',\n",
       "  'MÁS PAÍS-EQUO': 'pro',\n",
       "  'CUP-PR': 'against',\n",
       "  'PODEMOS-EU': 'pro',\n",
       "  'CCa-PNC-NC': None,\n",
       "  'NA+': 'against',\n",
       "  'MÉS COMPROMÍS': 'pro',\n",
       "  'BNG': 'pro',\n",
       "  'PRC': 'against',\n",
       "  '¡TERUEL EXISTE!': 'pro'}}"
      ]
     },
     "execution_count": 64,
     "metadata": {},
     "output_type": "execute_result"
    }
   ],
   "source": [
    "all_blocs = sp.data.load_blocs()\n",
    "all_blocs"
   ]
  },
  {
   "cell_type": "markdown",
   "metadata": {},
   "source": [
    "We see that there is a single dictionary present at the moment. It shows the political parties that voted pro, against or abstained to elect the current executive in Spain. The `spanish_elections` package creates a `Bloc` object, which is nothing but a wrapper for `dict` with some convenience functions such as checks for values or operations with DataFrames. Let us create a Bloc object with the dictionary above:"
   ]
  },
  {
   "cell_type": "code",
   "execution_count": 65,
   "metadata": {},
   "outputs": [
    {
     "data": {
      "text/plain": [
       "<spanish_elections.summarise.Bloc at 0x213d0981fc8>"
      ]
     },
     "execution_count": 65,
     "metadata": {},
     "output_type": "execute_result"
    }
   ],
   "source": [
    "from spanish_elections.summarise import Bloc\n",
    "investment_bloc = Bloc(all_blocs['investment_blocs_2020'])\n",
    "investment_bloc"
   ]
  },
  {
   "cell_type": "markdown",
   "metadata": {},
   "source": [
    "The original dictionary lies in the `classif` attribute:"
   ]
  },
  {
   "cell_type": "code",
   "execution_count": 66,
   "metadata": {},
   "outputs": [
    {
     "data": {
      "text/plain": [
       "{'PSOE': 'pro',\n",
       " 'PP': 'against',\n",
       " 'VOX': 'against',\n",
       " 'PODEMOS-IU': 'pro',\n",
       " 'ERC-SOBIRANISTES': 'abstain',\n",
       " 'Cs': 'against',\n",
       " 'JxCAT-JUNTS': 'against',\n",
       " 'ECP-GUANYEM EL CANVI': 'pro',\n",
       " 'EAJ-PNV': 'pro',\n",
       " 'EH Bildu': 'abstain',\n",
       " 'MÁS PAÍS-EQUO': 'pro',\n",
       " 'CUP-PR': 'against',\n",
       " 'PODEMOS-EU': 'pro',\n",
       " 'CCa-PNC-NC': None,\n",
       " 'NA+': 'against',\n",
       " 'MÉS COMPROMÍS': 'pro',\n",
       " 'BNG': 'pro',\n",
       " 'PRC': 'against',\n",
       " '¡TERUEL EXISTE!': 'pro'}"
      ]
     },
     "execution_count": 66,
     "metadata": {},
     "output_type": "execute_result"
    }
   ],
   "source": [
    "investment_bloc.classif"
   ]
  },
  {
   "cell_type": "markdown",
   "metadata": {},
   "source": [
    "Also, you can create your own bloc objects interactively and then save them to disk. The typical workflow to do that is presented here with an example in markdown:\n",
    "\n",
    "```\n",
    "investment_blocs_2020 = sp.summarise.create_bloc_interactively(pparties, \n",
    "                                                               bloc_values=['pro', 'against', 'abstain'])\n",
    "# save bloc\n",
    "investment_blocs_2020.save_bloc_as_json(filename, dir)\n",
    "```\n",
    "\n",
    "where the key function is `sp.summarise.create_bloc_interactively` that takes:\n",
    "- the list of political parties you want to classify as first argument\n",
    "- `bloc_values`, the values that the dictionary is restricted to have. \n",
    "\n",
    "Give it a try and create your own Blocs!"
   ]
  },
  {
   "cell_type": "markdown",
   "metadata": {},
   "source": [
    "#### Convenience functions with Bloc"
   ]
  },
  {
   "cell_type": "markdown",
   "metadata": {},
   "source": [
    "With Bloc, we can easily map the political party in a pandas dataframe to blocs:"
   ]
  },
  {
   "cell_type": "code",
   "execution_count": 67,
   "metadata": {},
   "outputs": [
    {
     "data": {
      "text/html": [
       "<div>\n",
       "<style scoped>\n",
       "    .dataframe tbody tr th:only-of-type {\n",
       "        vertical-align: middle;\n",
       "    }\n",
       "\n",
       "    .dataframe tbody tr th {\n",
       "        vertical-align: top;\n",
       "    }\n",
       "\n",
       "    .dataframe thead th {\n",
       "        text-align: right;\n",
       "    }\n",
       "</style>\n",
       "<table border=\"1\" class=\"dataframe\">\n",
       "  <thead>\n",
       "    <tr style=\"text-align: right;\">\n",
       "      <th></th>\n",
       "      <th>provincia</th>\n",
       "      <th>party</th>\n",
       "      <th>votes</th>\n",
       "      <th>bloc</th>\n",
       "    </tr>\n",
       "  </thead>\n",
       "  <tbody>\n",
       "    <tr>\n",
       "      <th>0</th>\n",
       "      <td>Almería</td>\n",
       "      <td>PSOE</td>\n",
       "      <td>89295</td>\n",
       "      <td>pro</td>\n",
       "    </tr>\n",
       "    <tr>\n",
       "      <th>1</th>\n",
       "      <td>Cádiz</td>\n",
       "      <td>PSOE</td>\n",
       "      <td>188271</td>\n",
       "      <td>pro</td>\n",
       "    </tr>\n",
       "    <tr>\n",
       "      <th>2</th>\n",
       "      <td>Córdoba</td>\n",
       "      <td>PSOE</td>\n",
       "      <td>146761</td>\n",
       "      <td>pro</td>\n",
       "    </tr>\n",
       "    <tr>\n",
       "      <th>3</th>\n",
       "      <td>Granada</td>\n",
       "      <td>PSOE</td>\n",
       "      <td>160190</td>\n",
       "      <td>pro</td>\n",
       "    </tr>\n",
       "    <tr>\n",
       "      <th>4</th>\n",
       "      <td>Huelva</td>\n",
       "      <td>PSOE</td>\n",
       "      <td>91656</td>\n",
       "      <td>pro</td>\n",
       "    </tr>\n",
       "    <tr>\n",
       "      <th>...</th>\n",
       "      <td>...</td>\n",
       "      <td>...</td>\n",
       "      <td>...</td>\n",
       "      <td>...</td>\n",
       "    </tr>\n",
       "    <tr>\n",
       "      <th>6911</th>\n",
       "      <td>Alicante</td>\n",
       "      <td>UDT</td>\n",
       "      <td>0</td>\n",
       "      <td>NaN</td>\n",
       "    </tr>\n",
       "    <tr>\n",
       "      <th>6912</th>\n",
       "      <td>Castellón</td>\n",
       "      <td>UDT</td>\n",
       "      <td>0</td>\n",
       "      <td>NaN</td>\n",
       "    </tr>\n",
       "    <tr>\n",
       "      <th>6913</th>\n",
       "      <td>Valencia</td>\n",
       "      <td>UDT</td>\n",
       "      <td>0</td>\n",
       "      <td>NaN</td>\n",
       "    </tr>\n",
       "    <tr>\n",
       "      <th>6914</th>\n",
       "      <td>Ceuta</td>\n",
       "      <td>UDT</td>\n",
       "      <td>0</td>\n",
       "      <td>NaN</td>\n",
       "    </tr>\n",
       "    <tr>\n",
       "      <th>6915</th>\n",
       "      <td>Melilla</td>\n",
       "      <td>UDT</td>\n",
       "      <td>0</td>\n",
       "      <td>NaN</td>\n",
       "    </tr>\n",
       "  </tbody>\n",
       "</table>\n",
       "<p>3484 rows × 4 columns</p>\n",
       "</div>"
      ],
      "text/plain": [
       "      provincia party   votes bloc\n",
       "0       Almería  PSOE   89295  pro\n",
       "1         Cádiz  PSOE  188271  pro\n",
       "2       Córdoba  PSOE  146761  pro\n",
       "3       Granada  PSOE  160190  pro\n",
       "4        Huelva  PSOE   91656  pro\n",
       "...         ...   ...     ...  ...\n",
       "6911   Alicante   UDT       0  NaN\n",
       "6912  Castellón   UDT       0  NaN\n",
       "6913   Valencia   UDT       0  NaN\n",
       "6914      Ceuta   UDT       0  NaN\n",
       "6915    Melilla   UDT       0  NaN\n",
       "\n",
       "[3484 rows x 4 columns]"
      ]
     },
     "execution_count": 67,
     "metadata": {},
     "output_type": "execute_result"
    }
   ],
   "source": [
    "investment_bloc.add_bloc_column(results, party_col='party', bloc_col='bloc')"
   ]
  },
  {
   "cell_type": "markdown",
   "metadata": {},
   "source": [
    "Where we have successfully added the bloc of each political party as a new column. Plus, we can aggregate by bloc as we wish with the following function:"
   ]
  },
  {
   "cell_type": "code",
   "execution_count": 68,
   "metadata": {},
   "outputs": [
    {
     "data": {
      "text/html": [
       "<div>\n",
       "<style scoped>\n",
       "    .dataframe tbody tr th:only-of-type {\n",
       "        vertical-align: middle;\n",
       "    }\n",
       "\n",
       "    .dataframe tbody tr th {\n",
       "        vertical-align: top;\n",
       "    }\n",
       "\n",
       "    .dataframe thead th {\n",
       "        text-align: right;\n",
       "    }\n",
       "</style>\n",
       "<table border=\"1\" class=\"dataframe\">\n",
       "  <thead>\n",
       "    <tr style=\"text-align: right;\">\n",
       "      <th></th>\n",
       "      <th>provincia</th>\n",
       "      <th>bloc</th>\n",
       "      <th>votes</th>\n",
       "    </tr>\n",
       "  </thead>\n",
       "  <tbody>\n",
       "    <tr>\n",
       "      <th>0</th>\n",
       "      <td>A Coruña</td>\n",
       "      <td>abstain</td>\n",
       "      <td>0</td>\n",
       "    </tr>\n",
       "    <tr>\n",
       "      <th>1</th>\n",
       "      <td>A Coruña</td>\n",
       "      <td>against</td>\n",
       "      <td>265921</td>\n",
       "    </tr>\n",
       "    <tr>\n",
       "      <th>2</th>\n",
       "      <td>A Coruña</td>\n",
       "      <td>pro</td>\n",
       "      <td>332001</td>\n",
       "    </tr>\n",
       "    <tr>\n",
       "      <th>3</th>\n",
       "      <td>Albacete</td>\n",
       "      <td>abstain</td>\n",
       "      <td>0</td>\n",
       "    </tr>\n",
       "    <tr>\n",
       "      <th>4</th>\n",
       "      <td>Albacete</td>\n",
       "      <td>against</td>\n",
       "      <td>119088</td>\n",
       "    </tr>\n",
       "    <tr>\n",
       "      <th>...</th>\n",
       "      <td>...</td>\n",
       "      <td>...</td>\n",
       "      <td>...</td>\n",
       "    </tr>\n",
       "    <tr>\n",
       "      <th>151</th>\n",
       "      <td>Zaragoza</td>\n",
       "      <td>against</td>\n",
       "      <td>259263</td>\n",
       "    </tr>\n",
       "    <tr>\n",
       "      <th>152</th>\n",
       "      <td>Zaragoza</td>\n",
       "      <td>pro</td>\n",
       "      <td>216201</td>\n",
       "    </tr>\n",
       "    <tr>\n",
       "      <th>153</th>\n",
       "      <td>Ávila</td>\n",
       "      <td>abstain</td>\n",
       "      <td>0</td>\n",
       "    </tr>\n",
       "    <tr>\n",
       "      <th>154</th>\n",
       "      <td>Ávila</td>\n",
       "      <td>against</td>\n",
       "      <td>55959</td>\n",
       "    </tr>\n",
       "    <tr>\n",
       "      <th>155</th>\n",
       "      <td>Ávila</td>\n",
       "      <td>pro</td>\n",
       "      <td>30533</td>\n",
       "    </tr>\n",
       "  </tbody>\n",
       "</table>\n",
       "<p>156 rows × 3 columns</p>\n",
       "</div>"
      ],
      "text/plain": [
       "    provincia     bloc   votes\n",
       "0    A Coruña  abstain       0\n",
       "1    A Coruña  against  265921\n",
       "2    A Coruña      pro  332001\n",
       "3    Albacete  abstain       0\n",
       "4    Albacete  against  119088\n",
       "..        ...      ...     ...\n",
       "151  Zaragoza  against  259263\n",
       "152  Zaragoza      pro  216201\n",
       "153     Ávila  abstain       0\n",
       "154     Ávila  against   55959\n",
       "155     Ávila      pro   30533\n",
       "\n",
       "[156 rows x 3 columns]"
      ]
     },
     "execution_count": 68,
     "metadata": {},
     "output_type": "execute_result"
    }
   ],
   "source": [
    "results_with_blocs = investment_bloc.summarise_by_bloc(results, party_col='party',\n",
    "                                                       other_agg=['provincia'],\n",
    "                                                       agg_fun={'votes': sum})\n",
    "results_with_blocs = results_with_blocs.reset_index()\n",
    "results_with_blocs"
   ]
  },
  {
   "cell_type": "markdown",
   "metadata": {},
   "source": [
    "#### Compute dhondt rule using a Bloc object\n",
    "\n",
    "It would be interesting to know the counterfactual number of seats pro or against the current government if all parties in the investment blocs would have participated together in the election (assuming that voters would have not changed their votes if that had been so). In fact, using the previous dataframe and `sp.dhondt_rule_long` it is already trivial to do so:"
   ]
  },
  {
   "cell_type": "code",
   "execution_count": 69,
   "metadata": {},
   "outputs": [
    {
     "data": {
      "text/html": [
       "<div>\n",
       "<style scoped>\n",
       "    .dataframe tbody tr th:only-of-type {\n",
       "        vertical-align: middle;\n",
       "    }\n",
       "\n",
       "    .dataframe tbody tr th {\n",
       "        vertical-align: top;\n",
       "    }\n",
       "\n",
       "    .dataframe thead th {\n",
       "        text-align: right;\n",
       "    }\n",
       "</style>\n",
       "<table border=\"1\" class=\"dataframe\">\n",
       "  <thead>\n",
       "    <tr style=\"text-align: right;\">\n",
       "      <th></th>\n",
       "      <th>bloc</th>\n",
       "      <th>provincia</th>\n",
       "      <th>votes</th>\n",
       "      <th>total_seats</th>\n",
       "      <th>seats</th>\n",
       "    </tr>\n",
       "  </thead>\n",
       "  <tbody>\n",
       "    <tr>\n",
       "      <th>0</th>\n",
       "      <td>abstain</td>\n",
       "      <td>A Coruña</td>\n",
       "      <td>0</td>\n",
       "      <td>8</td>\n",
       "      <td>0</td>\n",
       "    </tr>\n",
       "    <tr>\n",
       "      <th>1</th>\n",
       "      <td>against</td>\n",
       "      <td>A Coruña</td>\n",
       "      <td>265921</td>\n",
       "      <td>8</td>\n",
       "      <td>4</td>\n",
       "    </tr>\n",
       "    <tr>\n",
       "      <th>2</th>\n",
       "      <td>pro</td>\n",
       "      <td>A Coruña</td>\n",
       "      <td>332001</td>\n",
       "      <td>8</td>\n",
       "      <td>4</td>\n",
       "    </tr>\n",
       "    <tr>\n",
       "      <th>3</th>\n",
       "      <td>abstain</td>\n",
       "      <td>Albacete</td>\n",
       "      <td>0</td>\n",
       "      <td>4</td>\n",
       "      <td>0</td>\n",
       "    </tr>\n",
       "    <tr>\n",
       "      <th>4</th>\n",
       "      <td>against</td>\n",
       "      <td>Albacete</td>\n",
       "      <td>119088</td>\n",
       "      <td>4</td>\n",
       "      <td>2</td>\n",
       "    </tr>\n",
       "    <tr>\n",
       "      <th>...</th>\n",
       "      <td>...</td>\n",
       "      <td>...</td>\n",
       "      <td>...</td>\n",
       "      <td>...</td>\n",
       "      <td>...</td>\n",
       "    </tr>\n",
       "    <tr>\n",
       "      <th>151</th>\n",
       "      <td>against</td>\n",
       "      <td>Zaragoza</td>\n",
       "      <td>259263</td>\n",
       "      <td>7</td>\n",
       "      <td>4</td>\n",
       "    </tr>\n",
       "    <tr>\n",
       "      <th>152</th>\n",
       "      <td>pro</td>\n",
       "      <td>Zaragoza</td>\n",
       "      <td>216201</td>\n",
       "      <td>7</td>\n",
       "      <td>3</td>\n",
       "    </tr>\n",
       "    <tr>\n",
       "      <th>153</th>\n",
       "      <td>abstain</td>\n",
       "      <td>Ávila</td>\n",
       "      <td>0</td>\n",
       "      <td>3</td>\n",
       "      <td>0</td>\n",
       "    </tr>\n",
       "    <tr>\n",
       "      <th>154</th>\n",
       "      <td>against</td>\n",
       "      <td>Ávila</td>\n",
       "      <td>55959</td>\n",
       "      <td>3</td>\n",
       "      <td>2</td>\n",
       "    </tr>\n",
       "    <tr>\n",
       "      <th>155</th>\n",
       "      <td>pro</td>\n",
       "      <td>Ávila</td>\n",
       "      <td>30533</td>\n",
       "      <td>3</td>\n",
       "      <td>1</td>\n",
       "    </tr>\n",
       "  </tbody>\n",
       "</table>\n",
       "<p>156 rows × 5 columns</p>\n",
       "</div>"
      ],
      "text/plain": [
       "        bloc provincia   votes  total_seats  seats\n",
       "0    abstain  A Coruña       0            8      0\n",
       "1    against  A Coruña  265921            8      4\n",
       "2        pro  A Coruña  332001            8      4\n",
       "3    abstain  Albacete       0            4      0\n",
       "4    against  Albacete  119088            4      2\n",
       "..       ...       ...     ...          ...    ...\n",
       "151  against  Zaragoza  259263            7      4\n",
       "152      pro  Zaragoza  216201            7      3\n",
       "153  abstain     Ávila       0            3      0\n",
       "154  against     Ávila   55959            3      2\n",
       "155      pro     Ávila   30533            3      1\n",
       "\n",
       "[156 rows x 5 columns]"
      ]
     },
     "execution_count": 69,
     "metadata": {},
     "output_type": "execute_result"
    }
   ],
   "source": [
    "results_by_blocs = sp.dhondt_rule_long(results_with_blocs, \n",
    "                                       seats_per_prov, \n",
    "                                       province_col='provincia',\n",
    "                                      party_col='bloc')\n",
    "results_by_blocs"
   ]
  },
  {
   "cell_type": "markdown",
   "metadata": {},
   "source": [
    "We find the results disaggregated by province. Let us use the `sp.summarise.agg_results` function to obtain the total result:"
   ]
  },
  {
   "cell_type": "code",
   "execution_count": 70,
   "metadata": {},
   "outputs": [
    {
     "data": {
      "text/plain": [
       "bloc\n",
       "abstain     15\n",
       "against    176\n",
       "pro        159\n",
       "Name: seats, dtype: int64"
      ]
     },
     "execution_count": 70,
     "metadata": {},
     "output_type": "execute_result"
    }
   ],
   "source": [
    "sp.summarise.agg_results(results_by_blocs, result_col='seats',\n",
    "                        party_col='bloc')"
   ]
  },
  {
   "cell_type": "markdown",
   "metadata": {},
   "source": [
    "We find something quite striking: there would have been an alternative majority had not been for the partisan composition of the Congreso de Diputados. This demonstrates the importance of taking into account Dhond't method applied at the province level when analysing counterfactual scenarios for the Spanish elections."
   ]
  },
  {
   "cell_type": "markdown",
   "metadata": {},
   "source": [
    "### Transferring votes\n",
    "\n",
    "Transferring votes is more flexible than using blocks. The downside is that you need to design your own transferences.\n",
    "\n",
    "First, let me import and show the help for the main function to transfer votes, `transfer_votes_long`"
   ]
  },
  {
   "cell_type": "code",
   "execution_count": 71,
   "metadata": {},
   "outputs": [],
   "source": [
    "from spanish_elections import transfer_votes_long"
   ]
  },
  {
   "cell_type": "code",
   "execution_count": 72,
   "metadata": {},
   "outputs": [
    {
     "name": "stdout",
     "output_type": "stream",
     "text": [
      "Help on function transfer_votes_long in module spanish_elections.transfer_votes:\n",
      "\n",
      "transfer_votes_long(results: pandas.core.frame.DataFrame, list_transfer_votes, province_col='province', party_col='party', votes_col='votes', replace=False, final_votes_col='final_votes')\n",
      "\n"
     ]
    }
   ],
   "source": [
    "help(transfer_votes_long)"
   ]
  },
  {
   "cell_type": "markdown",
   "metadata": {},
   "source": [
    "The main parameters of `transfer_votes_long` are `results` and `list_transfer_votes`. `results` is a long dataframe with province, party and the number of votes for each party in that province (i.e. the `results` dataframe in this notebook). `list_transfer_votes` is a list of tuples of length 3, with the following structure:\n",
    "\n",
    "`(source_party, destination_party, percentage of votes from source_party to destination_party to be transferred)`"
   ]
  },
  {
   "cell_type": "markdown",
   "metadata": {},
   "source": [
    "#### Using transfers to simulate a reallocation of votes in the right"
   ]
  },
  {
   "cell_type": "markdown",
   "metadata": {},
   "source": [
    "We can simulate the counterfactual scenario where Ciudadanos (Cs) and VOX disappeared, and all their votes went to the oldest right-wing political party, the Popular Party. What would be the consequences for the composition of the current Congreso de Diputados? Let us explore it:"
   ]
  },
  {
   "cell_type": "code",
   "execution_count": 73,
   "metadata": {},
   "outputs": [],
   "source": [
    "all_right_to_pp_transfer_list = [('Cs', 'PP', 1.), ('VOX', 'PP', 1.)]"
   ]
  },
  {
   "cell_type": "markdown",
   "metadata": {},
   "source": [
    "Where we see that all votes from Cs and VOX would be transferred to PP. Let us now apply this transfer list to the results of the elections:"
   ]
  },
  {
   "cell_type": "code",
   "execution_count": 74,
   "metadata": {},
   "outputs": [
    {
     "data": {
      "text/html": [
       "<div>\n",
       "<style scoped>\n",
       "    .dataframe tbody tr th:only-of-type {\n",
       "        vertical-align: middle;\n",
       "    }\n",
       "\n",
       "    .dataframe tbody tr th {\n",
       "        vertical-align: top;\n",
       "    }\n",
       "\n",
       "    .dataframe thead th {\n",
       "        text-align: right;\n",
       "    }\n",
       "</style>\n",
       "<table border=\"1\" class=\"dataframe\">\n",
       "  <thead>\n",
       "    <tr style=\"text-align: right;\">\n",
       "      <th></th>\n",
       "      <th>party</th>\n",
       "      <th>provincia</th>\n",
       "      <th>votes</th>\n",
       "      <th>final_votes</th>\n",
       "    </tr>\n",
       "  </thead>\n",
       "  <tbody>\n",
       "    <tr>\n",
       "      <th>0</th>\n",
       "      <td>PSOE</td>\n",
       "      <td>A Coruña</td>\n",
       "      <td>184178</td>\n",
       "      <td>184178</td>\n",
       "    </tr>\n",
       "    <tr>\n",
       "      <th>1</th>\n",
       "      <td>PP</td>\n",
       "      <td>A Coruña</td>\n",
       "      <td>187127</td>\n",
       "      <td>265921</td>\n",
       "    </tr>\n",
       "    <tr>\n",
       "      <th>2</th>\n",
       "      <td>VOX</td>\n",
       "      <td>A Coruña</td>\n",
       "      <td>50325</td>\n",
       "      <td>0</td>\n",
       "    </tr>\n",
       "    <tr>\n",
       "      <th>3</th>\n",
       "      <td>PODEMOS-IU</td>\n",
       "      <td>A Coruña</td>\n",
       "      <td>0</td>\n",
       "      <td>0</td>\n",
       "    </tr>\n",
       "    <tr>\n",
       "      <th>4</th>\n",
       "      <td>ERC-SOBIRANISTES</td>\n",
       "      <td>A Coruña</td>\n",
       "      <td>0</td>\n",
       "      <td>0</td>\n",
       "    </tr>\n",
       "  </tbody>\n",
       "</table>\n",
       "</div>"
      ],
      "text/plain": [
       "              party provincia   votes  final_votes\n",
       "0              PSOE  A Coruña  184178       184178\n",
       "1                PP  A Coruña  187127       265921\n",
       "2               VOX  A Coruña   50325            0\n",
       "3        PODEMOS-IU  A Coruña       0            0\n",
       "4  ERC-SOBIRANISTES  A Coruña       0            0"
      ]
     },
     "execution_count": 74,
     "metadata": {},
     "output_type": "execute_result"
    }
   ],
   "source": [
    "all_right_to_pp_results = \\\n",
    "transfer_votes_long(results, all_right_to_pp_transfer_list, province_col='provincia')\n",
    "all_right_to_pp_results.head()"
   ]
  },
  {
   "cell_type": "markdown",
   "metadata": {},
   "source": [
    "And we will now check how the results would look for my province, Córdoba:"
   ]
  },
  {
   "cell_type": "code",
   "execution_count": 75,
   "metadata": {},
   "outputs": [
    {
     "data": {
      "text/html": [
       "<div>\n",
       "<style scoped>\n",
       "    .dataframe tbody tr th:only-of-type {\n",
       "        vertical-align: middle;\n",
       "    }\n",
       "\n",
       "    .dataframe tbody tr th {\n",
       "        vertical-align: top;\n",
       "    }\n",
       "\n",
       "    .dataframe thead th {\n",
       "        text-align: right;\n",
       "    }\n",
       "</style>\n",
       "<table border=\"1\" class=\"dataframe\">\n",
       "  <thead>\n",
       "    <tr style=\"text-align: right;\">\n",
       "      <th></th>\n",
       "      <th>party</th>\n",
       "      <th>provincia</th>\n",
       "      <th>votes</th>\n",
       "      <th>final_votes</th>\n",
       "    </tr>\n",
       "  </thead>\n",
       "  <tbody>\n",
       "    <tr>\n",
       "      <th>1139</th>\n",
       "      <td>PSOE</td>\n",
       "      <td>Córdoba</td>\n",
       "      <td>146761</td>\n",
       "      <td>146761</td>\n",
       "    </tr>\n",
       "    <tr>\n",
       "      <th>1140</th>\n",
       "      <td>PP</td>\n",
       "      <td>Córdoba</td>\n",
       "      <td>99999</td>\n",
       "      <td>218762</td>\n",
       "    </tr>\n",
       "    <tr>\n",
       "      <th>1142</th>\n",
       "      <td>PODEMOS-IU</td>\n",
       "      <td>Córdoba</td>\n",
       "      <td>64769</td>\n",
       "      <td>64769</td>\n",
       "    </tr>\n",
       "    <tr>\n",
       "      <th>1158</th>\n",
       "      <td>PACMA</td>\n",
       "      <td>Córdoba</td>\n",
       "      <td>3946</td>\n",
       "      <td>3946</td>\n",
       "    </tr>\n",
       "    <tr>\n",
       "      <th>1160</th>\n",
       "      <td>RECORTES CERO-GV</td>\n",
       "      <td>Córdoba</td>\n",
       "      <td>549</td>\n",
       "      <td>549</td>\n",
       "    </tr>\n",
       "    <tr>\n",
       "      <th>1161</th>\n",
       "      <td>PUM+J</td>\n",
       "      <td>Córdoba</td>\n",
       "      <td>478</td>\n",
       "      <td>478</td>\n",
       "    </tr>\n",
       "    <tr>\n",
       "      <th>1164</th>\n",
       "      <td>AxSÍ</td>\n",
       "      <td>Córdoba</td>\n",
       "      <td>1019</td>\n",
       "      <td>1019</td>\n",
       "    </tr>\n",
       "    <tr>\n",
       "      <th>1165</th>\n",
       "      <td>PCPE</td>\n",
       "      <td>Córdoba</td>\n",
       "      <td>544</td>\n",
       "      <td>544</td>\n",
       "    </tr>\n",
       "    <tr>\n",
       "      <th>1166</th>\n",
       "      <td>PCTE</td>\n",
       "      <td>Córdoba</td>\n",
       "      <td>321</td>\n",
       "      <td>321</td>\n",
       "    </tr>\n",
       "    <tr>\n",
       "      <th>1169</th>\n",
       "      <td>PCOE</td>\n",
       "      <td>Córdoba</td>\n",
       "      <td>1062</td>\n",
       "      <td>1062</td>\n",
       "    </tr>\n",
       "    <tr>\n",
       "      <th>1171</th>\n",
       "      <td>EB</td>\n",
       "      <td>Córdoba</td>\n",
       "      <td>760</td>\n",
       "      <td>760</td>\n",
       "    </tr>\n",
       "  </tbody>\n",
       "</table>\n",
       "</div>"
      ],
      "text/plain": [
       "                 party provincia   votes  final_votes\n",
       "1139              PSOE   Córdoba  146761       146761\n",
       "1140                PP   Córdoba   99999       218762\n",
       "1142        PODEMOS-IU   Córdoba   64769        64769\n",
       "1158             PACMA   Córdoba    3946         3946\n",
       "1160  RECORTES CERO-GV   Córdoba     549          549\n",
       "1161             PUM+J   Córdoba     478          478\n",
       "1164              AxSÍ   Córdoba    1019         1019\n",
       "1165              PCPE   Córdoba     544          544\n",
       "1166              PCTE   Córdoba     321          321\n",
       "1169              PCOE   Córdoba    1062         1062\n",
       "1171                EB   Córdoba     760          760"
      ]
     },
     "execution_count": 75,
     "metadata": {},
     "output_type": "execute_result"
    }
   ],
   "source": [
    "all_right_to_pp_results.query('provincia == \"Córdoba\" & final_votes > 0')"
   ]
  },
  {
   "cell_type": "markdown",
   "metadata": {},
   "source": [
    "We observe that all parties with votes have the same votes except for the PP, that now would achieve many more votes. Just as we expected! ;)"
   ]
  },
  {
   "cell_type": "markdown",
   "metadata": {},
   "source": [
    "Getting the final result of the elections is as simple as running `dhont_rule_long` specifying the new column with votes."
   ]
  },
  {
   "cell_type": "code",
   "execution_count": 76,
   "metadata": {},
   "outputs": [
    {
     "data": {
      "text/html": [
       "<div>\n",
       "<style scoped>\n",
       "    .dataframe tbody tr th:only-of-type {\n",
       "        vertical-align: middle;\n",
       "    }\n",
       "\n",
       "    .dataframe tbody tr th {\n",
       "        vertical-align: top;\n",
       "    }\n",
       "\n",
       "    .dataframe thead th {\n",
       "        text-align: right;\n",
       "    }\n",
       "</style>\n",
       "<table border=\"1\" class=\"dataframe\">\n",
       "  <thead>\n",
       "    <tr style=\"text-align: right;\">\n",
       "      <th></th>\n",
       "      <th>party</th>\n",
       "      <th>provincia</th>\n",
       "      <th>votes</th>\n",
       "      <th>final_votes</th>\n",
       "      <th>total_seats</th>\n",
       "      <th>seats</th>\n",
       "    </tr>\n",
       "  </thead>\n",
       "  <tbody>\n",
       "    <tr>\n",
       "      <th>0</th>\n",
       "      <td>PSOE</td>\n",
       "      <td>A Coruña</td>\n",
       "      <td>184178</td>\n",
       "      <td>184178</td>\n",
       "      <td>8</td>\n",
       "      <td>3</td>\n",
       "    </tr>\n",
       "    <tr>\n",
       "      <th>1</th>\n",
       "      <td>PP</td>\n",
       "      <td>A Coruña</td>\n",
       "      <td>187127</td>\n",
       "      <td>265921</td>\n",
       "      <td>8</td>\n",
       "      <td>4</td>\n",
       "    </tr>\n",
       "    <tr>\n",
       "      <th>2</th>\n",
       "      <td>VOX</td>\n",
       "      <td>A Coruña</td>\n",
       "      <td>50325</td>\n",
       "      <td>0</td>\n",
       "      <td>8</td>\n",
       "      <td>0</td>\n",
       "    </tr>\n",
       "    <tr>\n",
       "      <th>3</th>\n",
       "      <td>PODEMOS-IU</td>\n",
       "      <td>A Coruña</td>\n",
       "      <td>0</td>\n",
       "      <td>0</td>\n",
       "      <td>8</td>\n",
       "      <td>0</td>\n",
       "    </tr>\n",
       "    <tr>\n",
       "      <th>4</th>\n",
       "      <td>ERC-SOBIRANISTES</td>\n",
       "      <td>A Coruña</td>\n",
       "      <td>0</td>\n",
       "      <td>0</td>\n",
       "      <td>8</td>\n",
       "      <td>0</td>\n",
       "    </tr>\n",
       "  </tbody>\n",
       "</table>\n",
       "</div>"
      ],
      "text/plain": [
       "              party provincia   votes  final_votes  total_seats  seats\n",
       "0              PSOE  A Coruña  184178       184178            8      3\n",
       "1                PP  A Coruña  187127       265921            8      4\n",
       "2               VOX  A Coruña   50325            0            8      0\n",
       "3        PODEMOS-IU  A Coruña       0            0            8      0\n",
       "4  ERC-SOBIRANISTES  A Coruña       0            0            8      0"
      ]
     },
     "execution_count": 76,
     "metadata": {},
     "output_type": "execute_result"
    }
   ],
   "source": [
    "all_right_to_pp_seats = \\\n",
    "sp.dhondt_rule_long(all_right_to_pp_results, seats_per_prov, province_col='provincia',\n",
    "                   votes_col='final_votes')\n",
    "all_right_to_pp_seats.head()"
   ]
  },
  {
   "cell_type": "markdown",
   "metadata": {},
   "source": [
    "Where we note that the column seats got the seats for each political party in each province. Finally, we summarise the results:"
   ]
  },
  {
   "cell_type": "code",
   "execution_count": 77,
   "metadata": {},
   "outputs": [
    {
     "data": {
      "text/plain": [
       "party\n",
       "CCa-PNC-NC                2\n",
       "CUP-PR                    2\n",
       "EAJ-PNV                   6\n",
       "ECP-GUANYEM EL CANVI      6\n",
       "EH Bildu                  4\n",
       "ERC-SOBIRANISTES         13\n",
       "JxCAT-JUNTS               8\n",
       "MÁS PAÍS-EQUO             2\n",
       "MÉS COMPROMÍS             1\n",
       "NA+                       2\n",
       "PODEMOS-EU                2\n",
       "PODEMOS-IU               24\n",
       "PP                      175\n",
       "PRC                       1\n",
       "PSOE                    101\n",
       "¡TERUEL EXISTE!           1\n",
       "Name: seats, dtype: int64"
      ]
     },
     "execution_count": 77,
     "metadata": {},
     "output_type": "execute_result"
    }
   ],
   "source": [
    "all_right_to_pp_aggregate_results = sp.summarise.agg_results(all_right_to_pp_seats,\n",
    "                                                             result_col='seats')\n",
    "all_right_to_pp_aggregate_results"
   ]
  },
  {
   "cell_type": "markdown",
   "metadata": {},
   "source": [
    "Now, taking into account that NA+ is a coalition of PP and Cs in Navarra, the bloc of the right would have won the elections (with 177 seats) if they had participated together in the elections. Of course, this result only holds under the assumption that no votes of the right would have leaked if that was case."
   ]
  },
  {
   "cell_type": "markdown",
   "metadata": {},
   "source": [
    "The last assumption is utterly unrealistic. The nice part about the `transfer_votes_long` function, however, is that you can specify any proportion of votes in the transfer list, so you can make your transfers as realistic as you want. In fact, in the future I expect to incorporate tools to analyse microdata from Centro de Investigaciones Sociológicas (CIS). Then, we will be able to write much more realistic transferences."
   ]
  }
 ],
 "metadata": {
  "kernelspec": {
   "display_name": "Python 3",
   "language": "python",
   "name": "python3"
  },
  "language_info": {
   "codemirror_mode": {
    "name": "ipython",
    "version": 3
   },
   "file_extension": ".py",
   "mimetype": "text/x-python",
   "name": "python",
   "nbconvert_exporter": "python",
   "pygments_lexer": "ipython3",
   "version": "3.7.9"
  }
 },
 "nbformat": 4,
 "nbformat_minor": 4
}
