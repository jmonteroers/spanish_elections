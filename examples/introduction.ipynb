{
 "cells": [
  {
   "cell_type": "markdown",
   "metadata": {},
   "source": [
    "### Introduction"
   ]
  },
  {
   "cell_type": "code",
   "execution_count": 1,
   "metadata": {},
   "outputs": [],
   "source": [
    "import spanish_elections as sp_elect # should already be installed"
   ]
  },
  {
   "cell_type": "markdown",
   "metadata": {},
   "source": [
    "### Reading November 2019 Election Data"
   ]
  },
  {
   "cell_type": "markdown",
   "metadata": {},
   "source": [
    "Notice that the official source of the results for the November 2019 Spanish general elections is located in the relative path `../data/input/PROV_02_201911_1.xlsx`. In future versions of this package, maybe I collect data of several elections and prepare it beforehand. Then, these functions will only need to read the prepared data. Therefore, this part of the package is likely to be subject to many changes in the future."
   ]
  },
  {
   "cell_type": "code",
   "execution_count": null,
   "metadata": {},
   "outputs": [],
   "source": [
    "official_file_location = '../data/input/PROV_02_201911_1.xlsx'"
   ]
  },
  {
   "cell_type": "markdown",
   "metadata": {},
   "source": [
    "#### Extract general data about provinces\n",
    "\n",
    "First, I wish to extract some general data about each province, such as its name and the number of seats allocated in the November 2019 elections. We can do that by invoking the `extract_general_data` function:"
   ]
  },
  {
   "cell_type": "code",
   "execution_count": 5,
   "metadata": {},
   "outputs": [
    {
     "data": {
      "text/html": [
       "<div>\n",
       "<style scoped>\n",
       "    .dataframe tbody tr th:only-of-type {\n",
       "        vertical-align: middle;\n",
       "    }\n",
       "\n",
       "    .dataframe tbody tr th {\n",
       "        vertical-align: top;\n",
       "    }\n",
       "\n",
       "    .dataframe thead th {\n",
       "        text-align: right;\n",
       "    }\n",
       "</style>\n",
       "<table border=\"1\" class=\"dataframe\">\n",
       "  <thead>\n",
       "    <tr style=\"text-align: right;\">\n",
       "      <th></th>\n",
       "      <th>comunidad</th>\n",
       "      <th>código de provincia</th>\n",
       "      <th>provincia</th>\n",
       "      <th>población</th>\n",
       "      <th>número de mesas</th>\n",
       "      <th>censo electoral sin cera</th>\n",
       "      <th>censo cera</th>\n",
       "      <th>total censo electoral</th>\n",
       "      <th>solicitudes voto cera aceptadas</th>\n",
       "      <th>total votantes cer</th>\n",
       "      <th>total votantes cera</th>\n",
       "      <th>total votantes</th>\n",
       "      <th>votos válidos</th>\n",
       "      <th>votos a candidaturas</th>\n",
       "      <th>votos en blanco</th>\n",
       "      <th>votos nulos</th>\n",
       "      <th>diputados</th>\n",
       "    </tr>\n",
       "  </thead>\n",
       "  <tbody>\n",
       "    <tr>\n",
       "      <th>0</th>\n",
       "      <td>Andalucía</td>\n",
       "      <td>4</td>\n",
       "      <td>Almería</td>\n",
       "      <td>709340</td>\n",
       "      <td>809</td>\n",
       "      <td>460639</td>\n",
       "      <td>41988</td>\n",
       "      <td>502627</td>\n",
       "      <td>2923</td>\n",
       "      <td>303481</td>\n",
       "      <td>1933</td>\n",
       "      <td>305414</td>\n",
       "      <td>302424</td>\n",
       "      <td>299763</td>\n",
       "      <td>2661</td>\n",
       "      <td>2990</td>\n",
       "      <td>6</td>\n",
       "    </tr>\n",
       "    <tr>\n",
       "      <th>1</th>\n",
       "      <td>Andalucía</td>\n",
       "      <td>11</td>\n",
       "      <td>Cádiz</td>\n",
       "      <td>1238714</td>\n",
       "      <td>1520</td>\n",
       "      <td>973238</td>\n",
       "      <td>29057</td>\n",
       "      <td>1002295</td>\n",
       "      <td>3485</td>\n",
       "      <td>621965</td>\n",
       "      <td>2230</td>\n",
       "      <td>624195</td>\n",
       "      <td>616079</td>\n",
       "      <td>606858</td>\n",
       "      <td>9221</td>\n",
       "      <td>8116</td>\n",
       "      <td>9</td>\n",
       "    </tr>\n",
       "    <tr>\n",
       "      <th>2</th>\n",
       "      <td>Andalucía</td>\n",
       "      <td>14</td>\n",
       "      <td>Córdoba</td>\n",
       "      <td>785240</td>\n",
       "      <td>935</td>\n",
       "      <td>630033</td>\n",
       "      <td>18308</td>\n",
       "      <td>648341</td>\n",
       "      <td>2358</td>\n",
       "      <td>450124</td>\n",
       "      <td>1651</td>\n",
       "      <td>451775</td>\n",
       "      <td>444376</td>\n",
       "      <td>438971</td>\n",
       "      <td>5405</td>\n",
       "      <td>7399</td>\n",
       "      <td>6</td>\n",
       "    </tr>\n",
       "    <tr>\n",
       "      <th>3</th>\n",
       "      <td>Andalucía</td>\n",
       "      <td>18</td>\n",
       "      <td>Granada</td>\n",
       "      <td>912075</td>\n",
       "      <td>1100</td>\n",
       "      <td>704847</td>\n",
       "      <td>50160</td>\n",
       "      <td>755007</td>\n",
       "      <td>4827</td>\n",
       "      <td>487734</td>\n",
       "      <td>3168</td>\n",
       "      <td>490902</td>\n",
       "      <td>482779</td>\n",
       "      <td>478251</td>\n",
       "      <td>4528</td>\n",
       "      <td>8123</td>\n",
       "      <td>7</td>\n",
       "    </tr>\n",
       "    <tr>\n",
       "      <th>4</th>\n",
       "      <td>Andalucía</td>\n",
       "      <td>21</td>\n",
       "      <td>Huelva</td>\n",
       "      <td>519932</td>\n",
       "      <td>650</td>\n",
       "      <td>391497</td>\n",
       "      <td>7522</td>\n",
       "      <td>399019</td>\n",
       "      <td>914</td>\n",
       "      <td>254766</td>\n",
       "      <td>563</td>\n",
       "      <td>255329</td>\n",
       "      <td>250681</td>\n",
       "      <td>247336</td>\n",
       "      <td>3345</td>\n",
       "      <td>4648</td>\n",
       "      <td>5</td>\n",
       "    </tr>\n",
       "  </tbody>\n",
       "</table>\n",
       "</div>"
      ],
      "text/plain": [
       "   comunidad  código de provincia provincia  población  número de mesas  \\\n",
       "0  Andalucía                    4   Almería     709340              809   \n",
       "1  Andalucía                   11     Cádiz    1238714             1520   \n",
       "2  Andalucía                   14   Córdoba     785240              935   \n",
       "3  Andalucía                   18   Granada     912075             1100   \n",
       "4  Andalucía                   21    Huelva     519932              650   \n",
       "\n",
       "   censo electoral sin cera  censo cera  total censo electoral  \\\n",
       "0                    460639       41988                 502627   \n",
       "1                    973238       29057                1002295   \n",
       "2                    630033       18308                 648341   \n",
       "3                    704847       50160                 755007   \n",
       "4                    391497        7522                 399019   \n",
       "\n",
       "   solicitudes voto cera aceptadas  total votantes cer  total votantes cera  \\\n",
       "0                             2923              303481                 1933   \n",
       "1                             3485              621965                 2230   \n",
       "2                             2358              450124                 1651   \n",
       "3                             4827              487734                 3168   \n",
       "4                              914              254766                  563   \n",
       "\n",
       "   total votantes  votos válidos  votos a candidaturas  votos en blanco  \\\n",
       "0          305414         302424                299763             2661   \n",
       "1          624195         616079                606858             9221   \n",
       "2          451775         444376                438971             5405   \n",
       "3          490902         482779                478251             4528   \n",
       "4          255329         250681                247336             3345   \n",
       "\n",
       "   votos nulos  diputados  \n",
       "0         2990          6  \n",
       "1         8116          9  \n",
       "2         7399          6  \n",
       "3         8123          7  \n",
       "4         4648          5  "
      ]
     },
     "execution_count": 5,
     "metadata": {},
     "output_type": "execute_result"
    }
   ],
   "source": [
    "general_data = \\\n",
    "sp_elect.extract_general_data(official_file_location)\n",
    "\n",
    "general_data.head()"
   ]
  },
  {
   "cell_type": "markdown",
   "metadata": {},
   "source": [
    "Where the key columns are `provincia` (province) and `diputados` (seats per province). In the future, I may add a dictionary translating all the column names together with an explanation of what each variable means. \n",
    "\n",
    "Anyhow, let us now check the dimensions of this dataframe:"
   ]
  },
  {
   "cell_type": "code",
   "execution_count": 6,
   "metadata": {},
   "outputs": [
    {
     "data": {
      "text/plain": [
       "(52, 17)"
      ]
     },
     "execution_count": 6,
     "metadata": {},
     "output_type": "execute_result"
    }
   ],
   "source": [
    "general_data.shape"
   ]
  },
  {
   "cell_type": "markdown",
   "metadata": {},
   "source": [
    "It has 52 rows: one per province in Spain."
   ]
  },
  {
   "cell_type": "markdown",
   "metadata": {},
   "source": [
    "#### Extract results of November 2019 elections"
   ]
  },
  {
   "cell_type": "markdown",
   "metadata": {},
   "source": [
    "With this purpose, we will use a different function, `extract_results_by_province`"
   ]
  },
  {
   "cell_type": "code",
   "execution_count": 8,
   "metadata": {},
   "outputs": [
    {
     "data": {
      "text/html": [
       "<div>\n",
       "<style scoped>\n",
       "    .dataframe tbody tr th:only-of-type {\n",
       "        vertical-align: middle;\n",
       "    }\n",
       "\n",
       "    .dataframe tbody tr th {\n",
       "        vertical-align: top;\n",
       "    }\n",
       "\n",
       "    .dataframe thead th {\n",
       "        text-align: right;\n",
       "    }\n",
       "</style>\n",
       "<table border=\"1\" class=\"dataframe\">\n",
       "  <thead>\n",
       "    <tr style=\"text-align: right;\">\n",
       "      <th></th>\n",
       "      <th>provincia</th>\n",
       "      <th>party</th>\n",
       "      <th>result</th>\n",
       "      <th>value</th>\n",
       "    </tr>\n",
       "  </thead>\n",
       "  <tbody>\n",
       "    <tr>\n",
       "      <th>0</th>\n",
       "      <td>Almería</td>\n",
       "      <td>PSOE</td>\n",
       "      <td>votos</td>\n",
       "      <td>89295</td>\n",
       "    </tr>\n",
       "    <tr>\n",
       "      <th>1</th>\n",
       "      <td>Cádiz</td>\n",
       "      <td>PSOE</td>\n",
       "      <td>votos</td>\n",
       "      <td>188271</td>\n",
       "    </tr>\n",
       "    <tr>\n",
       "      <th>2</th>\n",
       "      <td>Córdoba</td>\n",
       "      <td>PSOE</td>\n",
       "      <td>votos</td>\n",
       "      <td>146761</td>\n",
       "    </tr>\n",
       "    <tr>\n",
       "      <th>3</th>\n",
       "      <td>Granada</td>\n",
       "      <td>PSOE</td>\n",
       "      <td>votos</td>\n",
       "      <td>160190</td>\n",
       "    </tr>\n",
       "    <tr>\n",
       "      <th>4</th>\n",
       "      <td>Huelva</td>\n",
       "      <td>PSOE</td>\n",
       "      <td>votos</td>\n",
       "      <td>91656</td>\n",
       "    </tr>\n",
       "  </tbody>\n",
       "</table>\n",
       "</div>"
      ],
      "text/plain": [
       "  provincia party result   value\n",
       "0   Almería  PSOE  votos   89295\n",
       "1     Cádiz  PSOE  votos  188271\n",
       "2   Córdoba  PSOE  votos  146761\n",
       "3   Granada  PSOE  votos  160190\n",
       "4    Huelva  PSOE  votos   91656"
      ]
     },
     "execution_count": 8,
     "metadata": {},
     "output_type": "execute_result"
    }
   ],
   "source": [
    "results = \\\n",
    "sp_elect.extract_results_by_province(official_file_location)\n",
    "\n",
    "results.head()"
   ]
  },
  {
   "cell_type": "markdown",
   "metadata": {},
   "source": [
    "Here we see that each row provides the following information:\n",
    "- provincia: province\n",
    "- party: political party\n",
    "- result: can either be 'votos' (ballots) or 'diputados' (seats)\n",
    "- value: result obtained by each political party in each province"
   ]
  },
  {
   "cell_type": "markdown",
   "metadata": {},
   "source": [
    "In the notebook `explore_the_data`, I will walk you through some interesting random facts that we can already gather from this data, such as the most-populated provinces in Spain or where did a party gain the highest percentage of casted votes."
   ]
  },
  {
   "cell_type": "markdown",
   "metadata": {},
   "source": [
    "### Simulate the Results of the Spanish Elections\n",
    "\n",
    "In this section, we want to obtain the number of seats obtained by each political party in each province from voting data (of course, it would be trivial to find it directly from the dataframe `results_by_province` as it already has this information!)"
   ]
  },
  {
   "cell_type": "code",
   "execution_count": null,
   "metadata": {},
   "outputs": [],
   "source": [
    "votes = results[results.result == 'votos']\n",
    "votes.shape"
   ]
  },
  {
   "cell_type": "markdown",
   "metadata": {},
   "source": [
    "We can already find out how many political parties presented themselves to the general election in November 2019:"
   ]
  },
  {
   "cell_type": "code",
   "execution_count": 10,
   "metadata": {},
   "outputs": [
    {
     "data": {
      "text/plain": [
       "67"
      ]
     },
     "execution_count": 10,
     "metadata": {},
     "output_type": "execute_result"
    }
   ],
   "source": [
    "3484 // 52"
   ]
  },
  {
   "cell_type": "markdown",
   "metadata": {},
   "source": [
    "There were 67 political parties taking part in the event."
   ]
  },
  {
   "cell_type": "markdown",
   "metadata": {},
   "source": [
    "To simulate the results, we only need to call `dhondt_rule_long`. The name of this function is no coincidence: "
   ]
  }
 ],
 "metadata": {
  "kernelspec": {
   "display_name": "spanish_elections",
   "language": "python",
   "name": "spanish_elections"
  },
  "language_info": {
   "codemirror_mode": {
    "name": "ipython",
    "version": 3
   },
   "file_extension": ".py",
   "mimetype": "text/x-python",
   "name": "python",
   "nbconvert_exporter": "python",
   "pygments_lexer": "ipython3",
   "version": "3.6.9"
  }
 },
 "nbformat": 4,
 "nbformat_minor": 2
}
